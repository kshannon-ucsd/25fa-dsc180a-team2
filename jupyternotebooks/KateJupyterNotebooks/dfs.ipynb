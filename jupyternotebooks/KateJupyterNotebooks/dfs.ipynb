{
 "cells": [
  {
   "cell_type": "code",
   "execution_count": 55,
   "id": "833b9a28",
   "metadata": {},
   "outputs": [],
   "source": [
    "import pandas as pd\n",
    "import numpy as np\n",
    "from scipy import stats\n",
    "import matplotlib.pyplot as plt\n",
    "import seaborn as sns"
   ]
  },
  {
   "cell_type": "code",
   "execution_count": 3,
   "id": "5008a0a0",
   "metadata": {},
   "outputs": [
    {
     "data": {
      "text/html": [
       "<div>\n",
       "<style scoped>\n",
       "    .dataframe tbody tr th:only-of-type {\n",
       "        vertical-align: middle;\n",
       "    }\n",
       "\n",
       "    .dataframe tbody tr th {\n",
       "        vertical-align: top;\n",
       "    }\n",
       "\n",
       "    .dataframe thead th {\n",
       "        text-align: right;\n",
       "    }\n",
       "</style>\n",
       "<table border=\"1\" class=\"dataframe\">\n",
       "  <thead>\n",
       "    <tr style=\"text-align: right;\">\n",
       "      <th></th>\n",
       "      <th>subject_id</th>\n",
       "      <th>hadm_id</th>\n",
       "      <th>icustay_id</th>\n",
       "      <th>gender</th>\n",
       "      <th>age_years</th>\n",
       "      <th>admission_type</th>\n",
       "      <th>admission_type_grp</th>\n",
       "      <th>intime</th>\n",
       "      <th>outtime</th>\n",
       "      <th>icu_los_days</th>\n",
       "      <th>...</th>\n",
       "      <th>coagulopathy</th>\n",
       "      <th>obesity</th>\n",
       "      <th>weight_loss</th>\n",
       "      <th>fluid_electrolyte</th>\n",
       "      <th>blood_loss_anemia</th>\n",
       "      <th>deficiency_anemias</th>\n",
       "      <th>alcohol_abuse</th>\n",
       "      <th>drug_abuse</th>\n",
       "      <th>psychoses</th>\n",
       "      <th>depression</th>\n",
       "    </tr>\n",
       "  </thead>\n",
       "  <tbody>\n",
       "    <tr>\n",
       "      <th>0</th>\n",
       "      <td>87977</td>\n",
       "      <td>100011</td>\n",
       "      <td>214619</td>\n",
       "      <td>M</td>\n",
       "      <td>21</td>\n",
       "      <td>EMERGENCY</td>\n",
       "      <td>non-elective</td>\n",
       "      <td>2177-08-29 04:52:21</td>\n",
       "      <td>2177-09-09 16:56:35</td>\n",
       "      <td>11.5029</td>\n",
       "      <td>...</td>\n",
       "      <td>0</td>\n",
       "      <td>0</td>\n",
       "      <td>0</td>\n",
       "      <td>0</td>\n",
       "      <td>0</td>\n",
       "      <td>0</td>\n",
       "      <td>0</td>\n",
       "      <td>1</td>\n",
       "      <td>0</td>\n",
       "      <td>0</td>\n",
       "    </tr>\n",
       "    <tr>\n",
       "      <th>1</th>\n",
       "      <td>9588</td>\n",
       "      <td>100041</td>\n",
       "      <td>271871</td>\n",
       "      <td>M</td>\n",
       "      <td>64</td>\n",
       "      <td>ELECTIVE</td>\n",
       "      <td>elective</td>\n",
       "      <td>2140-12-08 11:05:00</td>\n",
       "      <td>2140-12-09 15:30:00</td>\n",
       "      <td>1.1840</td>\n",
       "      <td>...</td>\n",
       "      <td>0</td>\n",
       "      <td>0</td>\n",
       "      <td>0</td>\n",
       "      <td>0</td>\n",
       "      <td>0</td>\n",
       "      <td>0</td>\n",
       "      <td>0</td>\n",
       "      <td>0</td>\n",
       "      <td>0</td>\n",
       "      <td>0</td>\n",
       "    </tr>\n",
       "    <tr>\n",
       "      <th>2</th>\n",
       "      <td>29633</td>\n",
       "      <td>100050</td>\n",
       "      <td>279769</td>\n",
       "      <td>M</td>\n",
       "      <td>70</td>\n",
       "      <td>ELECTIVE</td>\n",
       "      <td>elective</td>\n",
       "      <td>2179-09-20 12:39:22</td>\n",
       "      <td>2179-09-21 14:43:29</td>\n",
       "      <td>1.0862</td>\n",
       "      <td>...</td>\n",
       "      <td>1</td>\n",
       "      <td>0</td>\n",
       "      <td>0</td>\n",
       "      <td>0</td>\n",
       "      <td>0</td>\n",
       "      <td>0</td>\n",
       "      <td>0</td>\n",
       "      <td>0</td>\n",
       "      <td>0</td>\n",
       "      <td>0</td>\n",
       "    </tr>\n",
       "    <tr>\n",
       "      <th>3</th>\n",
       "      <td>14121</td>\n",
       "      <td>100058</td>\n",
       "      <td>297937</td>\n",
       "      <td>F</td>\n",
       "      <td>57</td>\n",
       "      <td>EMERGENCY</td>\n",
       "      <td>non-elective</td>\n",
       "      <td>2139-09-08 21:39:10</td>\n",
       "      <td>2139-09-23 14:56:30</td>\n",
       "      <td>14.7204</td>\n",
       "      <td>...</td>\n",
       "      <td>0</td>\n",
       "      <td>0</td>\n",
       "      <td>0</td>\n",
       "      <td>1</td>\n",
       "      <td>0</td>\n",
       "      <td>0</td>\n",
       "      <td>0</td>\n",
       "      <td>0</td>\n",
       "      <td>0</td>\n",
       "      <td>0</td>\n",
       "    </tr>\n",
       "    <tr>\n",
       "      <th>4</th>\n",
       "      <td>19717</td>\n",
       "      <td>100071</td>\n",
       "      <td>263159</td>\n",
       "      <td>F</td>\n",
       "      <td>57</td>\n",
       "      <td>EMERGENCY</td>\n",
       "      <td>non-elective</td>\n",
       "      <td>2160-03-27 00:11:24</td>\n",
       "      <td>2160-03-29 01:03:13</td>\n",
       "      <td>2.0360</td>\n",
       "      <td>...</td>\n",
       "      <td>0</td>\n",
       "      <td>0</td>\n",
       "      <td>0</td>\n",
       "      <td>1</td>\n",
       "      <td>0</td>\n",
       "      <td>0</td>\n",
       "      <td>0</td>\n",
       "      <td>0</td>\n",
       "      <td>0</td>\n",
       "      <td>0</td>\n",
       "    </tr>\n",
       "  </tbody>\n",
       "</table>\n",
       "<p>5 rows × 46 columns</p>\n",
       "</div>"
      ],
      "text/plain": [
       "   subject_id  hadm_id  icustay_id gender  age_years admission_type  \\\n",
       "0       87977   100011      214619      M         21      EMERGENCY   \n",
       "1        9588   100041      271871      M         64       ELECTIVE   \n",
       "2       29633   100050      279769      M         70       ELECTIVE   \n",
       "3       14121   100058      297937      F         57      EMERGENCY   \n",
       "4       19717   100071      263159      F         57      EMERGENCY   \n",
       "\n",
       "  admission_type_grp               intime              outtime  icu_los_days  \\\n",
       "0       non-elective  2177-08-29 04:52:21  2177-09-09 16:56:35       11.5029   \n",
       "1           elective  2140-12-08 11:05:00  2140-12-09 15:30:00        1.1840   \n",
       "2           elective  2179-09-20 12:39:22  2179-09-21 14:43:29        1.0862   \n",
       "3       non-elective  2139-09-08 21:39:10  2139-09-23 14:56:30       14.7204   \n",
       "4       non-elective  2160-03-27 00:11:24  2160-03-29 01:03:13        2.0360   \n",
       "\n",
       "   ...  coagulopathy  obesity  weight_loss fluid_electrolyte  \\\n",
       "0  ...             0        0            0                 0   \n",
       "1  ...             0        0            0                 0   \n",
       "2  ...             1        0            0                 0   \n",
       "3  ...             0        0            0                 1   \n",
       "4  ...             0        0            0                 1   \n",
       "\n",
       "  blood_loss_anemia deficiency_anemias  alcohol_abuse  drug_abuse  psychoses  \\\n",
       "0                 0                  0              0           1          0   \n",
       "1                 0                  0              0           0          0   \n",
       "2                 0                  0              0           0          0   \n",
       "3                 0                  0              0           0          0   \n",
       "4                 0                  0              0           0          0   \n",
       "\n",
       "   depression  \n",
       "0           0  \n",
       "1           0  \n",
       "2           0  \n",
       "3           0  \n",
       "4           0  \n",
       "\n",
       "[5 rows x 46 columns]"
      ]
     },
     "execution_count": 3,
     "metadata": {},
     "output_type": "execute_result"
    }
   ],
   "source": [
    "elixhauser = pd.read_csv(\"elixhauser_ahrq_no_drg_filter.csv\")\n",
    "elixhauser.head()"
   ]
  },
  {
   "cell_type": "code",
   "execution_count": 4,
   "id": "b2e1be01",
   "metadata": {},
   "outputs": [
    {
     "data": {
      "text/plain": [
       "Index(['subject_id', 'hadm_id', 'icustay_id', 'gender', 'age_years',\n",
       "       'admission_type', 'admission_type_grp', 'intime', 'outtime',\n",
       "       'icu_los_days', 'hosp_los_days', 'hosp_mortality', 'n_distinct_icd9',\n",
       "       'icd9_codes', 'icd9_code_titles', 'icd9_json',\n",
       "       'congestive_heart_failure', 'cardiac_arrhythmias', 'valvular_disease',\n",
       "       'pulmonary_circulation', 'peripheral_vascular', 'hypertension',\n",
       "       'paralysis', 'other_neurological', 'chronic_pulmonary',\n",
       "       'diabetes_uncomplicated', 'diabetes_complicated', 'hypothyroidism',\n",
       "       'renal_failure', 'liver_disease', 'peptic_ulcer', 'aids', 'lymphoma',\n",
       "       'metastatic_cancer', 'solid_tumor', 'rheumatoid_arthritis',\n",
       "       'coagulopathy', 'obesity', 'weight_loss', 'fluid_electrolyte',\n",
       "       'blood_loss_anemia', 'deficiency_anemias', 'alcohol_abuse',\n",
       "       'drug_abuse', 'psychoses', 'depression'],\n",
       "      dtype='object')"
      ]
     },
     "execution_count": 4,
     "metadata": {},
     "output_type": "execute_result"
    }
   ],
   "source": [
    "elixhauser.columns"
   ]
  },
  {
   "cell_type": "code",
   "execution_count": 5,
   "id": "f7e92221",
   "metadata": {},
   "outputs": [
    {
     "name": "stdout",
     "output_type": "stream",
     "text": [
      "Number of male: 21152\n",
      "Percentage of male: 57.77972027972028\n"
     ]
    }
   ],
   "source": [
    "print(\"Number of male:\", elixhauser[elixhauser['gender']=='M'].shape[0])\n",
    "print(\"Percentage of male:\", elixhauser[elixhauser['gender']=='M'].shape[0] / elixhauser.shape[0] * 100)\n"
   ]
  },
  {
   "cell_type": "code",
   "execution_count": 6,
   "id": "97aba322",
   "metadata": {},
   "outputs": [
    {
     "name": "stdout",
     "output_type": "stream",
     "text": [
      "Number of female: 15456\n",
      "Percentage of female: 42.22027972027972\n"
     ]
    }
   ],
   "source": [
    "print(\"Number of female:\", elixhauser[elixhauser['gender']=='F'].shape[0])\n",
    "print(\"Percentage of female:\", elixhauser[elixhauser['gender']=='F'].shape[0] / elixhauser.shape[0] * 100)"
   ]
  },
  {
   "cell_type": "code",
   "execution_count": 7,
   "id": "68dd87c9",
   "metadata": {},
   "outputs": [
    {
     "data": {
      "text/html": [
       "<div>\n",
       "<style scoped>\n",
       "    .dataframe tbody tr th:only-of-type {\n",
       "        vertical-align: middle;\n",
       "    }\n",
       "\n",
       "    .dataframe tbody tr th {\n",
       "        vertical-align: top;\n",
       "    }\n",
       "\n",
       "    .dataframe thead th {\n",
       "        text-align: right;\n",
       "    }\n",
       "</style>\n",
       "<table border=\"1\" class=\"dataframe\">\n",
       "  <thead>\n",
       "    <tr style=\"text-align: right;\">\n",
       "      <th></th>\n",
       "      <th>n_distinct_icd9</th>\n",
       "      <th>icd9_codes</th>\n",
       "    </tr>\n",
       "  </thead>\n",
       "  <tbody>\n",
       "    <tr>\n",
       "      <th>0</th>\n",
       "      <td>14</td>\n",
       "      <td>{2851,30560,48242,8052,80703,82111,8220,82525,...</td>\n",
       "    </tr>\n",
       "    <tr>\n",
       "      <th>1</th>\n",
       "      <td>8</td>\n",
       "      <td>{2449,2749,4019,412,41401,4414,496,V1582}</td>\n",
       "    </tr>\n",
       "    <tr>\n",
       "      <th>2</th>\n",
       "      <td>10</td>\n",
       "      <td>{2875,41401,4241,42731,4280,53081,5990,99791,9...</td>\n",
       "    </tr>\n",
       "    <tr>\n",
       "      <th>3</th>\n",
       "      <td>5</td>\n",
       "      <td>{2761,3051,34680,430,78659}</td>\n",
       "    </tr>\n",
       "    <tr>\n",
       "      <th>4</th>\n",
       "      <td>4</td>\n",
       "      <td>{2762,34290,49392,53081}</td>\n",
       "    </tr>\n",
       "    <tr>\n",
       "      <th>...</th>\n",
       "      <td>...</td>\n",
       "      <td>...</td>\n",
       "    </tr>\n",
       "    <tr>\n",
       "      <th>36603</th>\n",
       "      <td>1</td>\n",
       "      <td>{430}</td>\n",
       "    </tr>\n",
       "    <tr>\n",
       "      <th>36604</th>\n",
       "      <td>1</td>\n",
       "      <td>{4241}</td>\n",
       "    </tr>\n",
       "    <tr>\n",
       "      <th>36605</th>\n",
       "      <td>1</td>\n",
       "      <td>{430}</td>\n",
       "    </tr>\n",
       "    <tr>\n",
       "      <th>36606</th>\n",
       "      <td>1</td>\n",
       "      <td>{7455}</td>\n",
       "    </tr>\n",
       "    <tr>\n",
       "      <th>36607</th>\n",
       "      <td>1</td>\n",
       "      <td>{41401}</td>\n",
       "    </tr>\n",
       "  </tbody>\n",
       "</table>\n",
       "<p>36608 rows × 2 columns</p>\n",
       "</div>"
      ],
      "text/plain": [
       "       n_distinct_icd9                                         icd9_codes\n",
       "0                   14  {2851,30560,48242,8052,80703,82111,8220,82525,...\n",
       "1                    8          {2449,2749,4019,412,41401,4414,496,V1582}\n",
       "2                   10  {2875,41401,4241,42731,4280,53081,5990,99791,9...\n",
       "3                    5                        {2761,3051,34680,430,78659}\n",
       "4                    4                           {2762,34290,49392,53081}\n",
       "...                ...                                                ...\n",
       "36603                1                                              {430}\n",
       "36604                1                                             {4241}\n",
       "36605                1                                              {430}\n",
       "36606                1                                             {7455}\n",
       "36607                1                                            {41401}\n",
       "\n",
       "[36608 rows x 2 columns]"
      ]
     },
     "execution_count": 7,
     "metadata": {},
     "output_type": "execute_result"
    }
   ],
   "source": [
    "elixhauser[['n_distinct_icd9','icd9_codes']]"
   ]
  },
  {
   "cell_type": "markdown",
   "id": "facd5361",
   "metadata": {},
   "source": [
    "## Median Of Morbidity count (IQR)"
   ]
  },
  {
   "cell_type": "markdown",
   "id": "7330760e",
   "metadata": {},
   "source": [
    "Notice: From the Definitions of Comorbidities table, they combine Hypertension,uncomplicated (htn) and Hypertension,comlicated(htncx) to Hypertension (combined)"
   ]
  },
  {
   "cell_type": "code",
   "execution_count": 8,
   "id": "af22ec76",
   "metadata": {},
   "outputs": [],
   "source": [
    "# elixhauser['ht'] = elixhauser['htn'] + elixhauser['htncx']"
   ]
  },
  {
   "cell_type": "code",
   "execution_count": 9,
   "id": "56a99170",
   "metadata": {},
   "outputs": [],
   "source": [
    "elixhauser_index = ['congestive_heart_failure', 'cardiac_arrhythmias', 'valvular_disease',\n",
    "       'pulmonary_circulation', 'peripheral_vascular', 'hypertension',\n",
    "       'paralysis', 'other_neurological', 'chronic_pulmonary',\n",
    "       'diabetes_uncomplicated', 'diabetes_complicated', 'hypothyroidism',\n",
    "       'renal_failure', 'liver_disease', 'peptic_ulcer', 'aids', 'lymphoma',\n",
    "       'metastatic_cancer', 'solid_tumor', 'rheumatoid_arthritis',\n",
    "       'coagulopathy', 'obesity', 'weight_loss', 'fluid_electrolyte',\n",
    "       'blood_loss_anemia', 'deficiency_anemias', 'alcohol_abuse',\n",
    "       'drug_abuse', 'psychoses', 'depression']"
   ]
  },
  {
   "cell_type": "code",
   "execution_count": 10,
   "id": "ea9b0645",
   "metadata": {},
   "outputs": [
    {
     "data": {
      "text/plain": [
       "30"
      ]
     },
     "execution_count": 10,
     "metadata": {},
     "output_type": "execute_result"
    }
   ],
   "source": [
    "len(elixhauser_index)"
   ]
  },
  {
   "cell_type": "code",
   "execution_count": 11,
   "id": "df185ef0",
   "metadata": {},
   "outputs": [
    {
     "name": "stdout",
     "output_type": "stream",
     "text": [
      "Median of Morbidity count: 3.0\n"
     ]
    }
   ],
   "source": [
    "elixhauser_count = elixhauser[elixhauser_index].sum(axis=1)\n",
    "median_count = np.median(elixhauser_count)\n",
    "print(\"Median of Morbidity count:\", median_count)"
   ]
  },
  {
   "cell_type": "markdown",
   "id": "f26c8608",
   "metadata": {},
   "source": [
    "## Percent with Multimorbidity"
   ]
  },
  {
   "cell_type": "code",
   "execution_count": 12,
   "id": "931d596a",
   "metadata": {},
   "outputs": [
    {
     "name": "stdout",
     "output_type": "stream",
     "text": [
      "Percentage of patients with multipmorbidity: 76.86298076923077\n"
     ]
    }
   ],
   "source": [
    "print(\"Percentage of patients with multipmorbidity:\", sum(elixhauser[elixhauser_index].sum(axis=1) >= 2)/elixhauser.shape[0] * 100)"
   ]
  },
  {
   "cell_type": "code",
   "execution_count": 13,
   "id": "65ca2c21",
   "metadata": {},
   "outputs": [],
   "source": [
    "female_elixhauser = elixhauser[elixhauser['gender']=='F']"
   ]
  },
  {
   "cell_type": "code",
   "execution_count": 14,
   "id": "317ff3c9",
   "metadata": {},
   "outputs": [
    {
     "name": "stdout",
     "output_type": "stream",
     "text": [
      "Percentage of female patients with multimorbidity: 79.24430641821945\n"
     ]
    }
   ],
   "source": [
    "print(\"Percentage of female patients with multimorbidity:\", sum(female_elixhauser[elixhauser_index].sum(axis=1) >= 2)/female_elixhauser.shape[0] * 100)"
   ]
  },
  {
   "cell_type": "code",
   "execution_count": 15,
   "id": "ccef1bd8",
   "metadata": {},
   "outputs": [
    {
     "name": "stdout",
     "output_type": "stream",
     "text": [
      "Percentage of male patients with multimorbidity: 75.12291981845688\n"
     ]
    }
   ],
   "source": [
    "male_exlixhauser = elixhauser[elixhauser['gender']=='M']\n",
    "print(\"Percentage of male patients with multimorbidity:\", sum(male_exlixhauser[elixhauser_index].sum(axis=1) >= 2)/male_exlixhauser.shape[0] * 100)"
   ]
  },
  {
   "cell_type": "markdown",
   "id": "7088864b",
   "metadata": {},
   "source": [
    "### AGE GROUP"
   ]
  },
  {
   "cell_type": "code",
   "execution_count": 16,
   "id": "c5c743a2",
   "metadata": {},
   "outputs": [
    {
     "name": "stdout",
     "output_type": "stream",
     "text": [
      "30.993150684931507\n"
     ]
    }
   ],
   "source": [
    "first_age_group = elixhauser[elixhauser['age_years'] <= 24]\n",
    "print(sum(first_age_group[elixhauser_index].sum(axis=1) >= 2)/first_age_group.shape[0] * 100)"
   ]
  },
  {
   "cell_type": "code",
   "execution_count": 17,
   "id": "18115232",
   "metadata": {},
   "outputs": [
    {
     "name": "stdout",
     "output_type": "stream",
     "text": [
      "56.40230394328755\n"
     ]
    }
   ],
   "source": [
    "second_age_group = elixhauser[(elixhauser['age_years'] > 24) & (elixhauser['age_years'] <= 44)]\n",
    "print(sum(second_age_group[elixhauser_index].sum(axis=1) >= 2)/second_age_group.shape[0] * 100)"
   ]
  },
  {
   "cell_type": "code",
   "execution_count": 18,
   "id": "fffcd132",
   "metadata": {},
   "outputs": [
    {
     "name": "stdout",
     "output_type": "stream",
     "text": [
      "74.10770194113964\n"
     ]
    }
   ],
   "source": [
    "third_age_group = elixhauser[(elixhauser['age_years'] > 44) & (elixhauser['age_years'] <= 64)]\n",
    "print(sum(third_age_group[elixhauser_index].sum(axis=1) >= 2)/third_age_group.shape[0] * 100)"
   ]
  },
  {
   "cell_type": "code",
   "execution_count": 19,
   "id": "90b3024d",
   "metadata": {},
   "outputs": [
    {
     "name": "stdout",
     "output_type": "stream",
     "text": [
      "86.26541248252192\n"
     ]
    }
   ],
   "source": [
    "fourth_age_group = elixhauser[(elixhauser['age_years'] > 64) & (elixhauser['age_years'] <= 84)]\n",
    "print(sum(fourth_age_group[elixhauser_index].sum(axis=1) >= 2)/fourth_age_group.shape[0] * 100)"
   ]
  },
  {
   "cell_type": "code",
   "execution_count": 20,
   "id": "ebfcdb02",
   "metadata": {},
   "outputs": [
    {
     "name": "stdout",
     "output_type": "stream",
     "text": [
      "90.6043046357616\n"
     ]
    }
   ],
   "source": [
    "fifth_age_group = elixhauser[elixhauser['age_years'] > 84]\n",
    "print(sum(fifth_age_group[elixhauser_index].sum(axis=1) >= 2)/fifth_age_group.shape[0] * 100)"
   ]
  },
  {
   "cell_type": "code",
   "execution_count": 80,
   "id": "31784bd1",
   "metadata": {},
   "outputs": [],
   "source": [
    "\n",
    "# 16-24, 25-44, 45-64, 65-84, >85\n",
    "age_order = ['0-24', '25-44', '45-64', '65-84', '>85']\n",
    "\n",
    "# for fig-1a\n",
    "def age_brackets(age):\n",
    "    if age >= 16 and age <= 24:\n",
    "        return '0-24'\n",
    "    elif age >= 25 and age <=44:\n",
    "        return '25-44'\n",
    "    elif age >= 45 and age <= 64:\n",
    "        return '45-64'\n",
    "    elif age >= 65 and age <= 84:\n",
    "        return '65-84'\n",
    "    else:\n",
    "        return '>85'\n",
    "    \n",
    "    \n",
    "cohort = elixhauser.copy()\n",
    "cohort['age_brackets'] = cohort['age_years'].apply(age_brackets)\n",
    "cohort['age_brackets'] = pd.Categorical(\n",
    "    cohort['age_brackets'],\n",
    "    categories=age_order,\n",
    "    ordered=True\n",
    ")\n"
   ]
  },
  {
   "cell_type": "code",
   "execution_count": 81,
   "id": "a3683505",
   "metadata": {},
   "outputs": [],
   "source": [
    "cohort['comorbidities'] = cohort[elixhauser_index].sum(axis=1)\n",
    "cohort['multimorbidity'] = (cohort['comorbidities'] >= 2).astype(int)\n"
   ]
  },
  {
   "cell_type": "code",
   "execution_count": 82,
   "id": "6aaf921a",
   "metadata": {},
   "outputs": [
    {
     "name": "stderr",
     "output_type": "stream",
     "text": [
      "/var/folders/qp/dsjzkwhd6gz1p6cvsjsh0ktm0000gn/T/ipykernel_23504/3296133022.py:2: FutureWarning: The default of observed=False is deprecated and will be changed to True in a future version of pandas. Pass observed=False to retain current behavior or observed=True to adopt the future default and silence this warning.\n",
      "  cohort.groupby('age_brackets')['multimorbidity']\n"
     ]
    },
    {
     "data": {
      "text/html": [
       "<div>\n",
       "<style scoped>\n",
       "    .dataframe tbody tr th:only-of-type {\n",
       "        vertical-align: middle;\n",
       "    }\n",
       "\n",
       "    .dataframe tbody tr th {\n",
       "        vertical-align: top;\n",
       "    }\n",
       "\n",
       "    .dataframe thead th {\n",
       "        text-align: right;\n",
       "    }\n",
       "</style>\n",
       "<table border=\"1\" class=\"dataframe\">\n",
       "  <thead>\n",
       "    <tr style=\"text-align: right;\">\n",
       "      <th></th>\n",
       "      <th>age_brackets</th>\n",
       "      <th>pct_multimorbidity</th>\n",
       "      <th>n</th>\n",
       "      <th>se</th>\n",
       "    </tr>\n",
       "  </thead>\n",
       "  <tbody>\n",
       "    <tr>\n",
       "      <th>0</th>\n",
       "      <td>0-24</td>\n",
       "      <td>30.993151</td>\n",
       "      <td>1168</td>\n",
       "      <td>1.353186</td>\n",
       "    </tr>\n",
       "    <tr>\n",
       "      <th>1</th>\n",
       "      <td>25-44</td>\n",
       "      <td>56.402304</td>\n",
       "      <td>4514</td>\n",
       "      <td>0.738073</td>\n",
       "    </tr>\n",
       "    <tr>\n",
       "      <th>2</th>\n",
       "      <td>45-64</td>\n",
       "      <td>74.107702</td>\n",
       "      <td>12776</td>\n",
       "      <td>0.387543</td>\n",
       "    </tr>\n",
       "    <tr>\n",
       "      <th>3</th>\n",
       "      <td>65-84</td>\n",
       "      <td>86.265412</td>\n",
       "      <td>15734</td>\n",
       "      <td>0.274414</td>\n",
       "    </tr>\n",
       "    <tr>\n",
       "      <th>4</th>\n",
       "      <td>&gt;85</td>\n",
       "      <td>90.604305</td>\n",
       "      <td>2416</td>\n",
       "      <td>0.593595</td>\n",
       "    </tr>\n",
       "  </tbody>\n",
       "</table>\n",
       "</div>"
      ],
      "text/plain": [
       "  age_brackets  pct_multimorbidity      n        se\n",
       "0         0-24           30.993151   1168  1.353186\n",
       "1        25-44           56.402304   4514  0.738073\n",
       "2        45-64           74.107702  12776  0.387543\n",
       "3        65-84           86.265412  15734  0.274414\n",
       "4          >85           90.604305   2416  0.593595"
      ]
     },
     "execution_count": 82,
     "metadata": {},
     "output_type": "execute_result"
    }
   ],
   "source": [
    "fig_1a = (\n",
    "    cohort.groupby('age_brackets')['multimorbidity']\n",
    "      .agg(['mean', 'count'])\n",
    "      .reset_index()\n",
    "      .rename(columns={'mean': 'pct_multimorbidity', 'count': 'n'})\n",
    ")\n",
    "fig_1a['pct_multimorbidity'] *= 100\n",
    "fig_1a['se'] = np.sqrt(\n",
    "    fig_1a['pct_multimorbidity']*(100-fig_1a['pct_multimorbidity'])/fig_1a['n']\n",
    ")\n",
    "\n",
    "\n",
    "fig_1a\n"
   ]
  },
  {
   "cell_type": "code",
   "execution_count": 83,
   "id": "83328ae6",
   "metadata": {},
   "outputs": [
    {
     "data": {
      "image/png": "[encoded data removed]",
      "text/plain": [
       "<Figure size 640x480 with 1 Axes>"
      ]
     },
     "metadata": {},
     "output_type": "display_data"
    }
   ],
   "source": [
    "plt.bar(\n",
    "    fig_1a['age_brackets'],\n",
    "    fig_1a['pct_multimorbidity'],\n",
    "    yerr=fig_1a['se'],\n",
    "    color='black',\n",
    "    width=0.4\n",
    ")\n",
    "plt.xlabel('Age')\n",
    "plt.ylabel('Patients with Multimorbidity (%)')\n",
    "plt.ylim(0,100)\n",
    "plt.title('Fig. 1A')\n",
    "plt.show()\n",
    "\n"
   ]
  },
  {
   "cell_type": "code",
   "execution_count": null,
   "id": "718098d4",
   "metadata": {},
   "outputs": [],
   "source": []
  }
 ],
 "metadata": {
  "kernelspec": {
   "display_name": "Python 3 (ipykernel)",
   "language": "python",
   "name": "python3"
  },
  "language_info": {
   "codemirror_mode": {
    "name": "ipython",
    "version": 3
   },
   "file_extension": ".py",
   "mimetype": "text/x-python",
   "name": "python",
   "nbconvert_exporter": "python",
   "pygments_lexer": "ipython3",
   "version": "3.12.11"
  }
 },
 "nbformat": 4,
 "nbformat_minor": 5
}
